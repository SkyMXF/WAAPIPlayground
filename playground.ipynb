{
 "cells": [
  {
   "cell_type": "code",
   "execution_count": null,
   "outputs": [],
   "source": [
    "# Install WAAPI Python API\n",
    "!pip install waapi-client\n",
    "!pip install requests"
   ],
   "metadata": {
    "collapsed": false
   }
  },
  {
   "cell_type": "code",
   "execution_count": null,
   "outputs": [],
   "source": [
    "# Create WAAPI client\n",
    "WAAPI_WS_URL = \"ws://127.0.0.1:8080/waapi\"\n",
    "WAAPI_HTTP_URL = \"http://localhost:8090/waapi\"\n",
    "TEMP_PY_PATH = \"tmp.py\""
   ],
   "metadata": {
    "collapsed": false
   }
  },
  {
   "cell_type": "code",
   "execution_count": null,
   "outputs": [],
   "source": [
    "# Try WAAPI call with WAAPI Python API\n",
    "# waapi client is not available in Jupyter Notebook (asyncio conflicts), so we have to create a .py file and run it\n",
    "import os\n",
    "\n",
    "api = \"ak.wwise.core.object.get\"\n",
    "args = {\n",
    "    \"from\": {\"ofType\": [\"Project\"]},\n",
    "    \"options\": {\"return\": [\"name\"]}\n",
    "}\n",
    "\n",
    "with open(TEMP_PY_PATH, \"w\") as f:\n",
    "    print(\"import waapi\\n\", file=f)\n",
    "    print(\"waapi_client = waapi.connect(url='%s')\\n\" % WAAPI_WS_URL, file=f)\n",
    "    print(\"result = waapi_client.call(\\n'%s',\\n'%s'\\n)\\n\" % (api, args), file=f)\n",
    "    print(\"print(result)\\n\", file=f)\n",
    "    print(\"waapi_client.disconnect()\\n\", file=f)\n",
    "\n",
    "# run .py\n",
    "os.system(\"python %s\" % TEMP_PY_PATH)"
   ],
   "metadata": {
    "collapsed": false
   }
  },
  {
   "cell_type": "code",
   "execution_count": null,
   "outputs": [],
   "source": [
    "# Call WAAPI with HTTP, subscription and callback are not supported\n",
    "import requests\n",
    "import json\n",
    "\n",
    "calling_json = {\n",
    "    \"uri\": \"ak.wwise.core.object.get\",\n",
    "    \"args\": {\n",
    "        \"from\": {\"ofType\": [\"Project\"]},\n",
    "    },\n",
    "    \"options\": {\n",
    "        \"return\": [\"name\"]\n",
    "    }\n",
    "}\n",
    "\n",
    "result = requests.post(WAAPI_HTTP_URL, json.dumps(calling_json))\n",
    "print(result.status_code, result.reason)\n",
    "print(result.text.encode('utf8', \"replace\"))"
   ],
   "metadata": {
    "collapsed": false
   }
  }
 ],
 "metadata": {
  "kernelspec": {
   "display_name": "Python 3",
   "language": "python",
   "name": "python3"
  },
  "language_info": {
   "codemirror_mode": {
    "name": "ipython",
    "version": 2
   },
   "file_extension": ".py",
   "mimetype": "text/x-python",
   "name": "python",
   "nbconvert_exporter": "python",
   "pygments_lexer": "ipython2",
   "version": "2.7.6"
  }
 },
 "nbformat": 4,
 "nbformat_minor": 0
}
