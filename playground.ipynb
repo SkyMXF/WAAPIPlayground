{
 "cells": [
  {
   "cell_type": "code",
   "execution_count": null,
   "outputs": [],
   "source": [
    "# Install WAAPI Python API\n",
    "!pip install waapi-client\n",
    "!pip install requests"
   ],
   "metadata": {
    "collapsed": false
   }
  },
  {
   "cell_type": "code",
   "execution_count": null,
   "outputs": [],
   "source": [
    "# Create WAAPI client\n",
    "import waapi\n",
    "\n",
    "WAAPI_WS_URL = \"ws://127.0.0.1:8080/waapi\"\n",
    "WAAPI_HTTP_URL = \"http://localhost:8090/waapi\"\n",
    "\n",
    "waapi_client = waapi.connect(url=WAAPI_WS_URL)"
   ],
   "metadata": {
    "collapsed": false
   }
  },
  {
   "cell_type": "code",
   "execution_count": null,
   "outputs": [],
   "source": [
    "# Try WAAPI call with WAAPI Python API\n",
    "\n",
    "api = \"ak.wwise.core.object.get\"\n",
    "args = {\n",
    "    \"from\": {\"ofType\": [\"Project\"]},\n",
    "    \"options\": {\"return\": [\"name\"]}\n",
    "}\n",
    "result = waapi_client.call(api, args)\n",
    "print(result)"
   ],
   "metadata": {
    "collapsed": false
   }
  },
  {
   "cell_type": "code",
   "execution_count": null,
   "outputs": [],
   "source": [
    "# Call WAAPI with HTTP, subscription and callback are not supported\n",
    "import requests\n",
    "import json\n",
    "\n",
    "calling_json = {\n",
    "    \"uri\": \"ak.wwise.core.object.get\",\n",
    "    \"args\": {\n",
    "        \"from\": {\"ofType\": [\"Project\"]},\n",
    "    },\n",
    "    \"options\": {\n",
    "        \"return\": [\"name\"]\n",
    "    }\n",
    "}\n",
    "\n",
    "result = requests.post(WAAPI_HTTP_URL, json.dumps(calling_json))\n",
    "print(result.status_code, result.reason)\n",
    "print(result.text.encode('utf8', \"replace\"))"
   ],
   "metadata": {
    "collapsed": false
   }
  },
  {
   "cell_type": "code",
   "execution_count": null,
   "outputs": [],
   "source": [
    "# Disconnect WAAPI client\n",
    "waapi_client.disconnect()"
   ],
   "metadata": {
    "collapsed": false
   }
  }
 ],
 "metadata": {
  "kernelspec": {
   "display_name": "Python 3",
   "language": "python",
   "name": "python3"
  },
  "language_info": {
   "codemirror_mode": {
    "name": "ipython",
    "version": 2
   },
   "file_extension": ".py",
   "mimetype": "text/x-python",
   "name": "python",
   "nbconvert_exporter": "python",
   "pygments_lexer": "ipython2",
   "version": "2.7.6"
  }
 },
 "nbformat": 4,
 "nbformat_minor": 0
}
